{
 "cells": [
  {
   "cell_type": "code",
   "execution_count": null,
   "metadata": {},
   "outputs": [],
   "source": [
    "def calculate_area(radius)\n",
    "    pi=3.14\n",
    "    area = pi * (radius ** 2)\n",
    "    return area \n",
    "\n",
    "r = float(input(\"Enter radius\"))\n",
    "print(\"Area of a circle\",calculate_area(r))\n"
   ]
  }
 ],
 "metadata": {
  "language_info": {
   "name": "python"
  }
 },
 "nbformat": 4,
 "nbformat_minor": 2
}
